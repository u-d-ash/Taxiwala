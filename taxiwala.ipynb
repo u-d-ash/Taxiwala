{
 "cells": [
  {
   "cell_type": "code",
   "execution_count": 107,
   "metadata": {},
   "outputs": [],
   "source": [
    "import pandas as pd\n",
    "import numpy as np\n",
    "from datetime import datetime"
   ]
  },
  {
   "cell_type": "code",
   "execution_count": null,
   "metadata": {},
   "outputs": [],
   "source": [
    "df = pd.read_csv(\"taxiwala.csv\")"
   ]
  },
  {
   "cell_type": "code",
   "execution_count": 109,
   "metadata": {},
   "outputs": [],
   "source": [
    "airport_df = df[df['Pickup Point'] == \"Airport\"]\n",
    "kamakhya_df = df[df['Pickup Point'] == \"Kamakhya Railway Station\"]\n",
    "guwahati_df = df[df['Pickup Point'] == \"Guwahati Railway Station\"]"
   ]
  },
  {
   "cell_type": "code",
   "execution_count": 110,
   "metadata": {},
   "outputs": [],
   "source": [
    "INIT_TIME = '12/27/2023 12:00:00 AM'\n",
    "format = '%m/%d/%Y %I:%M:%S %p'\n",
    "def get_minutes(current_dt):\n",
    "    init_date = datetime.strptime(INIT_TIME, format)\n",
    "    current_date = datetime.strptime(current_dt, format)\n",
    "    delta = (current_date - init_date).total_seconds() / 60\n",
    "    return delta"
   ]
  },
  {
   "cell_type": "code",
   "execution_count": 111,
   "metadata": {},
   "outputs": [],
   "source": [
    "def get_df_groups(df):\n",
    "    \n",
    "    df['datetime'] = df['Arrival Date'] + \" \" + df['Flight/Train Arrival Time']\n",
    "    df['delta'] = df['datetime'].apply(get_minutes)\n",
    "    df = df.sort_values(['delta'], ascending=True)\n",
    "    \n",
    "    timestamps = df['delta'].values\n",
    "\n",
    "    n = len(timestamps)\n",
    "    i = 0\n",
    "\n",
    "    groups = []\n",
    "\n",
    "    while(i < n):\n",
    "        \n",
    "        current_g = []\n",
    "        current_g.append(i)\n",
    "\n",
    "        j = i + 1\n",
    "\n",
    "        for x in range(3):\n",
    "\n",
    "            if(i + x + 1 >= n):\n",
    "                break\n",
    "\n",
    "            if(timestamps[i + x + 1] - timestamps[i] <= 30):\n",
    "                current_g.append(i + x + 1)\n",
    "            else:\n",
    "                j = i + x + 1\n",
    "                break\n",
    "            \n",
    "        groups.append(current_g)\n",
    "        i = j\n",
    "\n",
    "    return groups\n",
    "\n",
    "    \n",
    "    "
   ]
  },
  {
   "cell_type": "code",
   "execution_count": 112,
   "metadata": {},
   "outputs": [],
   "source": [
    "ap_grps = get_df_groups(airport_df)\n",
    "km_grps = get_df_groups(kamakhya_df)\n",
    "gw_grps = get_df_groups(guwahati_df)"
   ]
  }
 ],
 "metadata": {
  "kernelspec": {
   "display_name": "base",
   "language": "python",
   "name": "python3"
  },
  "language_info": {
   "codemirror_mode": {
    "name": "ipython",
    "version": 3
   },
   "file_extension": ".py",
   "mimetype": "text/x-python",
   "name": "python",
   "nbconvert_exporter": "python",
   "pygments_lexer": "ipython3",
   "version": "3.10.9"
  }
 },
 "nbformat": 4,
 "nbformat_minor": 2
}
